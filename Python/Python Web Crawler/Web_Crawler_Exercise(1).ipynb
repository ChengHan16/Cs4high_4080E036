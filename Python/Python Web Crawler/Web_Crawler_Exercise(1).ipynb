{
  "nbformat": 4,
  "nbformat_minor": 0,
  "metadata": {
    "colab": {
      "name": "Web Crawler Exercise(1).ipynb",
      "provenance": [],
      "authorship_tag": "ABX9TyP3t+LN8C+OK+Gldz7TUPZi",
      "include_colab_link": true
    },
    "kernelspec": {
      "name": "python3",
      "display_name": "Python 3"
    }
  },
  "cells": [
    {
      "cell_type": "markdown",
      "metadata": {
        "id": "view-in-github",
        "colab_type": "text"
      },
      "source": [
        "<a href=\"https://colab.research.google.com/github/ChengHan16/Cs4high_4080E036/blob/master/Web_Crawler_Exercise(1).ipynb\" target=\"_parent\"><img src=\"https://colab.research.google.com/assets/colab-badge.svg\" alt=\"Open In Colab\"/></a>"
      ]
    },
    {
      "cell_type": "code",
      "metadata": {
        "id": "k9sf0QCZ5vdg"
      },
      "source": [
        "# 參考資料:https://www.learncodewithmike.com/2020/02/python-beautifulsoup-web-scraper.html"
      ],
      "execution_count": null,
      "outputs": []
    },
    {
      "cell_type": "code",
      "metadata": {
        "id": "r91vcep90fC5"
      },
      "source": [
        "import requests\n",
        "response = requests.get(\n",
        "    \"https://travel.ettoday.net/category/%E6%A1%83%E5%9C%92/\")"
      ],
      "execution_count": 4,
      "outputs": []
    },
    {
      "cell_type": "code",
      "metadata": {
        "id": "J_zJSs861Qep",
        "outputId": "fe242f64-87c5-45d1-fe94-7b5c622c6fbc",
        "colab": {
          "base_uri": "https://localhost:8080/",
          "height": 67
        }
      },
      "source": [
        "import requests\n",
        "from bs4 import BeautifulSoup\n",
        "response = requests.get(\n",
        "    \"https://travel.ettoday.net/category/%E6%A1%83%E5%9C%92/\")\n",
        "soup = BeautifulSoup(response.text, \"html.parser\")\n",
        "# print(soup.prettify())  #輸出排版後的HTML內容\n",
        "#result = soup.find(\"h3\")\n",
        "#print(result)\n",
        "#result = soup.find_all([\"h3\", \"p\"], limit=2)\n",
        "#print(result)\n",
        "#--------------------------------------------------------\n",
        "#result = soup.find(\"h3\", itemprop=\"headline\")\n",
        "#print(result.select_one(\"a\"))\n",
        "#--------------------------------------------------------\n",
        "#result = soup.find(\"div\", itemprop=\"itemListElement\")\n",
        "#print(result.select(\"a\"))\n",
        "#--------------------------------------------------------\n",
        "#titles = soup.find(\"p\", class_=\"summary\")\n",
        "#print(titles)\n",
        "#--------------------------------------------------------\n",
        "#titles = soup.find_all(\"p\", class_=\"summary\", limit=3)\n",
        "#print(titles)\n",
        "#--------------------------------------------------------\n",
        "#titles = soup.select(\".summary\", limit=3)\n",
        "#print(titles)\n",
        "#--------------------------------------------------------\n",
        "result = soup.find(\"a\", itemprop=\"url\")\n",
        "parents = result.find_parents(\"h3\")\n",
        "print(parents)"
      ],
      "execution_count": 14,
      "outputs": [
        {
          "output_type": "stream",
          "text": [
            "[<h3 itemprop=\"headline\">\n",
            "<a href=\"https://travel.ettoday.net/article/1834713.htm\" itemprop=\"url\">歐美夢幻移動樂園！青埔小旅行散策　躺50..</a>\n",
            "</h3>]\n"
          ],
          "name": "stdout"
        }
      ]
    },
    {
      "cell_type": "code",
      "metadata": {
        "id": "1paJl4FW29GR",
        "outputId": "1380d367-c94b-489c-9e27-3740186c091a",
        "colab": {
          "base_uri": "https://localhost:8080/",
          "height": 87
        }
      },
      "source": [
        "# 一、BeautifulSoup安裝\n",
        "# Beautifulsoup套件(Package)可以透過pip指令來進行安裝，如下：\n",
        "# pip install beautifulsoup4\n",
        "# 要解析網頁的HTML程式碼前，還需要安裝Python的requests套件(Package)，將要爬取的網頁HTML程式碼取回來，安裝方式如下：\n",
        "# pip install requests\n",
        "\n",
        "# 首先引用requests套件(Package)，並且透過get()方法(Method)存取ETtoday旅遊雲的桃園景點網址，如下範例：\n",
        "import requests\n",
        "response = requests.get(\n",
        "  \"https://travel.ettoday.net/category/%E6%A1%83%E5%9C%92/\")\n",
        "\n",
        "# 將網頁的HTML程式碼取回來後，接著引用BeautifulSoup類別(Class)，傳入取回的HTML結構字串，並且指定HTML的解析型態來建立其物件，\n",
        "# 如下範例：將網頁的HTML程式碼取回來後，接著引用BeautifulSoup類別(Class)，傳入取回的HTML結構字串，並且指定HTML的解析型態來建立其物件，如下範例：\n",
        "import requests\n",
        "from bs4 import BeautifulSoup\n",
        "response = requests.get(\n",
        "    \"https://travel.ettoday.net/category/%E6%A1%83%E5%9C%92/\")\n",
        "soup = BeautifulSoup(response.text, \"html.parser\")\n",
        "#print(soup.prettify())  #輸出排版後的HTML內容\n",
        "\n",
        "#-------------------------------------------------------------------------------\n",
        "# 二、以HTML標籤及屬性搜尋節點\n",
        "# soup物件已經包含了整個網頁的HTML程式碼，接下來就可以利用BeautifulSoup套件(Package)所提供的以下方法，來進行節點的搜尋。\n",
        "# find()\n",
        "# 只搜尋第一個符合條件的HTML節點，傳入要搜尋的標籤名稱，如下範例：\n",
        "\n",
        "#result = soup.find(\"h3\")\n",
        "#print(result)\n",
        "\n",
        "#-------------------------------------------------------------------------------\n",
        "# find_all()\n",
        "# 搜尋網頁中所有符合條件的HTML節點，傳入要搜尋的HTML標籤名稱。\n",
        "# 如果要更明確的搜尋，可以利用關鍵字參數(Keyword Argument)指定其屬性值。\n",
        "# 由於執行結果可能會搜出許多的HTML內容，所以最後也可以利用limit關鍵字參數(Keyword Argument)限制搜尋的節點數量，如下範例：\n",
        "\n",
        "#result = soup.find_all(\"h3\", itemprop=\"headline\", limit=3)\n",
        "#print(result)\n",
        "\n",
        "# 範例中可以看到，find_all()方法(Method)回傳了一個串列(List)，包含了網頁中所有的<h3>標籤，且itemprop屬性值為headline的節點，由於限定搜尋數量為2，所以僅搜尋兩個節點。\n",
        "#-------------------------------------------------------------------------------\n",
        "# 另外，如果要同時搜尋多個HTML標籤，可以將標籤名稱打包成串列(List)後，傳入find_all()方法(Method)中即可，如下範例：\n",
        "\n",
        "#result = soup.find_all([\"h3\", \"p\"], limit=2)\n",
        "#print(result)\n",
        "\n",
        "# 範例中同時搜尋了網頁中所有<h3>及<p>的HTML標籤內容，這邊限定只搜尋兩個節點。\n",
        "#-------------------------------------------------------------------------------\n",
        "# select_one()\n",
        "# 當某一節點下只有單個子節點時，可以利用BeautifulSoup套件(Package)的select_one()方法(Method)，選取子節點，如下範例：\n",
        "\n",
        "#result = soup.find(\"h3\", itemprop=\"headline\")\n",
        "#print(result.select_one(\"a\"))\n",
        "#-------------------------------------------------------------------------------\n",
        "# select()\n",
        "# 而如果某一節點下有多個子節點時，則使用select()方法(Method)，選取子節點，如下範例：\n",
        "\n",
        "#result = soup.find(\"div\", itemprop=\"itemListElement\")\n",
        "#print(result.select(\"a\"))\n",
        "\n",
        "# 範例中，由於<div>標籤下有多個<a>標籤的子節點，所以可以利用select()方法(Method)，選取其下所有的<a>標籤，並且為串列(List)的資料型態。\n",
        "\n",
        "#-------------------------------------------------------------------------------\n",
        "# 三、以CSS屬性搜尋節點\n",
        "# 依據HTML的css屬性來進行節點的搜尋，需使用 class_ 關鍵字參數(Keyword Argument)來進行css屬性值的指定，同樣提供了以下的搜尋方式：\n",
        "# find()\n",
        "# 搜尋第一個符合指定的HTML標籤及css屬性值的節點，如下範例：\n",
        "\n",
        "#titles = soup.find(\"p\", class_=\"summary\")\n",
        "#print(titles)\n",
        "\n",
        "#-------------------------------------------------------------------------------\n",
        "# find_all()\n",
        "# 搜尋網頁中符合指定的HTML標籤及css屬性值的所有節點，如下範例：\n",
        "\n",
        "#titles = soup.find_all(\"p\", class_=\"summary\", limit=3)\n",
        "#print(titles)\n",
        "\n",
        "# 第二、三個<p>節點由於其下還有<em>節點，所以也會進行回傳。\n",
        "#-------------------------------------------------------------------------------\n",
        "\n",
        "# select()\n",
        "# 而如果單純只想要透過css屬性值來進行HTML節點的搜尋，則可以使用BeautifulSoup套件(Package)的select()方法(Method)，如下範例：\n",
        "\n",
        "titles = soup.select(\".summary\", limit=3)\n",
        "print(titles)\n",
        "\n",
        "#-------------------------------------------------------------------------------\n",
        "# 四、搜尋父節點\n",
        "# 以上皆為向下的搜尋節點方式，如果想要從某一個節點向上搜尋，則可以使用BeautifulSoup套件(Package)的find_parent()或find_parents()方法(Method)，如下範例："
      ],
      "execution_count": 33,
      "outputs": [
        {
          "output_type": "stream",
          "text": [
            "[<p class=\"summary\" itemprop=\"description\">今年最受矚目的XPARK開幕後，帶動整個桃園青埔的觀光，加上JETS嘉年華進駐，現在假日人潮絡繹不絕，一旁還有華泰名品城、新光影城等商場，待上一天不是問題，從早到晚的行程都能在青埔解決，有吃有玩有得逛，青埔一日遊根本不夠，兩天三天的行程規劃就快跟著ReadyGo的步伐，玩出桃園新滋味。</p>, <p class=\"summary\" itemprop=\"description\">桃園Xpark八景島水族館8月7日才熱鬧開幕，有網友於日前參觀後，指出館內魚撞玻璃受傷，甚至水母斷肢等慘狀，猜測是館內缸器過於狹小。對此，官方表示，今（15日）下午1點左右將以新聞稿方式對外說明，將協調由飼育部協理一一回答民眾的質疑。                                                <em content=\"2020-10-15T11:11:00+08:00\" itemprop=\"datePublished\">(2020-10-15 11:11)</em>\n",
            "</p>, <p class=\"summary\" itemprop=\"description\">眷村變得鮮活起來！不只相片、書信等靜態展覽，即日起至10月18日，邁向20個年頭的「桃園眷村文化節」横跨戲劇、展覽、飲食、電影、表演5大面向，顛覆以往表層的形式，透過沈浸式戲劇等方式讓民眾身歷其境6、70年代的台灣眷村，跟著劇中人物一起笑、一起哭，一起回憶過往的美好時光。快跟著《ETtoday新聞雲》的腳步，認識本次「桃園眷村文化節」3主場亮點。                                                <em content=\"2020-10-14T19:03:00+08:00\" itemprop=\"datePublished\">(2020-10-14 19:03)</em>\n",
            "</p>]\n"
          ],
          "name": "stdout"
        }
      ]
    }
  ]
}
